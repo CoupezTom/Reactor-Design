{
 "cells": [
  {
   "cell_type": "code",
   "execution_count": 1,
   "metadata": {},
   "outputs": [],
   "source": [
    "import numpy as np \n",
    "from matplotlib import pyplot as plt \n"
   ]
  },
  {
   "cell_type": "code",
   "execution_count": null,
   "metadata": {},
   "outputs": [],
   "source": [
    "### Data ###\n",
    "\n",
    "T = 653.15 \n",
    "k = 5.880744572              # Rate constant\n",
    "K = 14.46405216              # Equilibrium constant\n",
    "epsi = 0.4876552             # Void fraction\n",
    "K_CO = 0.6\n",
    "K_CO2 = 4.1\n",
    "K_H2 = 4.1\n",
    "K_H2O = 1.3\n",
    "xi = np.linspace(0, 1, 1000) # Adimensionnal dimension \n",
    "us = 0.091419                # Superficial velocity in m/s\n",
    "\n",
    "\n"
   ]
  }
 ],
 "metadata": {
  "kernelspec": {
   "display_name": "Python 3",
   "language": "python",
   "name": "python3"
  },
  "language_info": {
   "codemirror_mode": {
    "name": "ipython",
    "version": 3
   },
   "file_extension": ".py",
   "mimetype": "text/x-python",
   "name": "python",
   "nbconvert_exporter": "python",
   "pygments_lexer": "ipython3",
   "version": "3.7.3"
  }
 },
 "nbformat": 4,
 "nbformat_minor": 2
}
