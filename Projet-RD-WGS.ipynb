{
 "cells": [
  {
   "cell_type": "code",
   "execution_count": 11,
   "metadata": {},
   "outputs": [],
   "source": [
    "import numpy as np \n",
    "from matplotlib import pyplot as plt \n"
   ]
  },
  {
   "cell_type": "code",
   "execution_count": 31,
   "metadata": {},
   "outputs": [
    {
     "name": "stdout",
     "output_type": "stream",
     "text": [
      "0.0\n"
     ]
    }
   ],
   "source": [
    "### Data ###\n",
    "\n",
    "T      = 653.15 \n",
    "rho_b  = 2550\n",
    "k      = 5.880744572                # Rate constant\n",
    "K      = 14.46405216                # Equilibrium constant\n",
    "epsi   = 0.4876552                  # Void fraction\n",
    "K_CO   = 0.6\n",
    "K_CO2  = 4.1\n",
    "K_H2   = 4.1\n",
    "K_H2O  = 1.3\n",
    "L      = 0.3  \n",
    "us     = 0.091419                  # Superficial velocity in m/s\n",
    "xsi    = np.linspace(0, 1, 10000)   # Adimensionnal dimension\n",
    "Beta   = L*rho_b/us\n"
   ]
  },
  {
   "cell_type": "code",
   "execution_count": 38,
   "metadata": {},
   "outputs": [
    {
     "data": {
      "image/png": "[encoded data removed]",
      "text/plain": [
       "<Figure size 432x288 with 1 Axes>"
      ]
     },
     "metadata": {
      "needs_background": "light"
     },
     "output_type": "display_data"
    }
   ],
   "source": [
    "### Question 1 ### \n",
    "\n",
    "eta    = 0.5                      # Effectiveness factor \n",
    "Xend   = 1\n",
    "Xstart = 0\n",
    "Ustart = 54.16242886   # Condition initiale CO [mol/m^3] \n",
    "\n",
    "def Reactor_without_dispersion(X):\n",
    "    h = (Xend-Xstart)/len(X)\n",
    "    U = np.zeros(len(X))\n",
    "    U[0] = Ustart\n",
    "    i = 1\n",
    "    for i in range(len(X)-1):\n",
    "        U[i+1] =  U[i] + h*(-Beta/2)*((k*K_CO*K_H2O)*U[i]*(U[i]+38.6875)-((72.73-U[i])*(182.6047-U[i]))/K)/(1 + K_CO*U[i] + K_H2O*(U[i] +38.6875) + K_CO2*(72.73-U[i]) + K_H2*(182.6047-U[i]))**2\n",
    "    plt.plot(X,U,'r')\n",
    "    plt.show()\n",
    "\n",
    "Reactor_without_dispersion(xsi)\n",
    "    \n"
   ]
  },
  {
   "cell_type": "code",
   "execution_count": null,
   "metadata": {},
   "outputs": [],
   "source": []
  },
  {
   "cell_type": "code",
   "execution_count": null,
   "metadata": {},
   "outputs": [],
   "source": []
  },
  {
   "cell_type": "code",
   "execution_count": null,
   "metadata": {},
   "outputs": [],
   "source": []
  }
 ],
 "metadata": {
  "kernelspec": {
   "display_name": "Python 3",
   "language": "python",
   "name": "python3"
  },
  "language_info": {
   "codemirror_mode": {
    "name": "ipython",
    "version": 3
   },
   "file_extension": ".py",
   "mimetype": "text/x-python",
   "name": "python",
   "nbconvert_exporter": "python",
   "pygments_lexer": "ipython3",
   "version": "3.7.3"
  }
 },
 "nbformat": 4,
 "nbformat_minor": 2
}
